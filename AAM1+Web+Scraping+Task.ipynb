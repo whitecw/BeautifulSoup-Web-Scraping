{
 "cells": [
  {
   "cell_type": "code",
   "execution_count": 127,
   "metadata": {
    "collapsed": false
   },
   "outputs": [],
   "source": [
    "import pandas as pd\n",
    "from bs4 import BeautifulSoup\n",
    "import csv\n",
    "import re\n",
    "import urllib.request\n",
    "import numpy as np\n",
    "from urllib.parse import urljoin\n",
    "\n",
    "r = urllib.request.urlopen('https://www.census.gov/programs-surveys/popest.html').read()\n",
    "soup = BeautifulSoup(r, \"lxml\")\n",
    "base_url = 'https://www.census.gov/programs-surveys/popest.html'\n",
    "link_list = []\n",
    "\n",
    "for link in soup.findAll('a', attrs={'href': re.compile(\"^http\")}):\n",
    "    soup_link = str(link.get('href'))\n",
    "    strip_link = soup_link.rstrip(\"/\")\n",
    "    link_list.append(strip_link)\n",
    "    \n",
    "for link in soup.findAll('a', attrs={'href' : re.compile(\"^/\")}):\n",
    "    rel_link = str(link.get('href'))\n",
    "    strip_rel = rel_link.rstrip(\"/\")\n",
    "    rel_join = urljoin(base_url, strip_rel)\n",
    "    link_list.append(rel_join)\n",
    "\n",
    "link_set = set(link_list)\n",
    "\n",
    "df = pd.DataFrame(list(link_set), columns=['URI'])\n",
    "\n",
    "df.to_csv('parsed_data.csv')\n",
    "\n",
    "\n",
    "\n",
    "\n",
    "\n",
    "\n"
   ]
  }
 ],
 "metadata": {
  "kernelspec": {
   "display_name": "Python 3",
   "language": "python",
   "name": "python3"
  },
  "language_info": {
   "codemirror_mode": {
    "name": "ipython",
    "version": 3
   },
   "file_extension": ".py",
   "mimetype": "text/x-python",
   "name": "python",
   "nbconvert_exporter": "python",
   "pygments_lexer": "ipython3",
   "version": "3.6.0"
  }
 },
 "nbformat": 4,
 "nbformat_minor": 2
}
